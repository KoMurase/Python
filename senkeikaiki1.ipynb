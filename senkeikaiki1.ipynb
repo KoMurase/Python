{
 "cells": [
  {
   "cell_type": "code",
   "execution_count": 6,
   "metadata": {},
   "outputs": [],
   "source": [
    "import numpy as np\n",
    "import matplotlib.pyplot as plt\n",
    "#matplotlib inline"
   ]
  },
  {
   "cell_type": "code",
   "execution_count": 7,
   "metadata": {},
   "outputs": [],
   "source": [
    "X=np.random.rand(100,1)"
   ]
  },
  {
   "cell_type": "code",
   "execution_count": 8,
   "metadata": {
    "scrolled": true
   },
   "outputs": [
    {
     "data": {
      "text/plain": [
       "array([[0.01401942],\n",
       "       [0.01403183],\n",
       "       [0.55629476],\n",
       "       [0.1320166 ],\n",
       "       [0.11490024],\n",
       "       [0.22950199],\n",
       "       [0.52437758],\n",
       "       [0.85176421],\n",
       "       [0.8464133 ],\n",
       "       [0.42780352],\n",
       "       [0.231433  ],\n",
       "       [0.345878  ],\n",
       "       [0.60070115],\n",
       "       [0.59187982],\n",
       "       [0.42466559],\n",
       "       [0.87646974],\n",
       "       [0.20855451],\n",
       "       [0.49389544],\n",
       "       [0.38759458],\n",
       "       [0.93154032],\n",
       "       [0.35692871],\n",
       "       [0.91818758],\n",
       "       [0.75242343],\n",
       "       [0.47439022],\n",
       "       [0.26471932],\n",
       "       [0.99714097],\n",
       "       [0.70334457],\n",
       "       [0.74834492],\n",
       "       [0.05565398],\n",
       "       [0.11286597],\n",
       "       [0.81802772],\n",
       "       [0.30429914],\n",
       "       [0.30789841],\n",
       "       [0.37874892],\n",
       "       [0.47615711],\n",
       "       [0.82280642],\n",
       "       [0.89110752],\n",
       "       [0.24254847],\n",
       "       [0.55696242],\n",
       "       [0.1510874 ],\n",
       "       [0.11961045],\n",
       "       [0.83249655],\n",
       "       [0.27600183],\n",
       "       [0.94366201],\n",
       "       [0.90876644],\n",
       "       [0.69539924],\n",
       "       [0.18507694],\n",
       "       [0.43586207],\n",
       "       [0.44906924],\n",
       "       [0.24637395],\n",
       "       [0.58623989],\n",
       "       [0.64130846],\n",
       "       [0.06531708],\n",
       "       [0.54424227],\n",
       "       [0.51452861],\n",
       "       [0.18950751],\n",
       "       [0.2733613 ],\n",
       "       [0.65967211],\n",
       "       [0.17632989],\n",
       "       [0.37966736],\n",
       "       [0.16378685],\n",
       "       [0.58709721],\n",
       "       [0.91989127],\n",
       "       [0.16162785],\n",
       "       [0.03123631],\n",
       "       [0.72057854],\n",
       "       [0.93456815],\n",
       "       [0.63822901],\n",
       "       [0.57701941],\n",
       "       [0.38286716],\n",
       "       [0.33167076],\n",
       "       [0.4667861 ],\n",
       "       [0.34029999],\n",
       "       [0.83782557],\n",
       "       [0.04546536],\n",
       "       [0.8229768 ],\n",
       "       [0.63861277],\n",
       "       [0.20931778],\n",
       "       [0.23489158],\n",
       "       [0.17695672],\n",
       "       [0.59335632],\n",
       "       [0.3122393 ],\n",
       "       [0.93699744],\n",
       "       [0.78726663],\n",
       "       [0.81383953],\n",
       "       [0.04260653],\n",
       "       [0.81973643],\n",
       "       [0.86908944],\n",
       "       [0.16515566],\n",
       "       [0.15058851],\n",
       "       [0.97604012],\n",
       "       [0.2183644 ],\n",
       "       [0.2910961 ],\n",
       "       [0.74642616],\n",
       "       [0.60758972],\n",
       "       [0.55902065],\n",
       "       [0.13129779],\n",
       "       [0.41209405],\n",
       "       [0.39290582],\n",
       "       [0.92261098]])"
      ]
     },
     "execution_count": 8,
     "metadata": {},
     "output_type": "execute_result"
    }
   ],
   "source": [
    "X"
   ]
  },
  {
   "cell_type": "code",
   "execution_count": 9,
   "metadata": {},
   "outputs": [],
   "source": [
    "y=5+3*X+np.random.rand(100,1)"
   ]
  },
  {
   "cell_type": "code",
   "execution_count": 10,
   "metadata": {},
   "outputs": [
    {
     "data": {
      "text/plain": [
       "<matplotlib.collections.PathCollection at 0x257f8bd3400>"
      ]
     },
     "execution_count": 10,
     "metadata": {},
     "output_type": "execute_result"
    },
    {
     "data": {
      "image/png": "[encoded data removed]",
      "text/plain": [
       "<Figure size 432x288 with 1 Axes>"
      ]
     },
     "metadata": {
      "needs_background": "light"
     },
     "output_type": "display_data"
    }
   ],
   "source": [
    "plt.scatter(X,y)"
   ]
  },
  {
   "cell_type": "code",
   "execution_count": 11,
   "metadata": {},
   "outputs": [],
   "source": [
    "from sklearn.linear_model import LinearRegression"
   ]
  },
  {
   "cell_type": "code",
   "execution_count": 12,
   "metadata": {},
   "outputs": [],
   "source": [
    "lin_reg=LinearRegression().fit(X,y.ravel())"
   ]
  },
  {
   "cell_type": "code",
   "execution_count": 13,
   "metadata": {},
   "outputs": [
    {
     "data": {
      "text/plain": [
       "(100,)"
      ]
     },
     "execution_count": 13,
     "metadata": {},
     "output_type": "execute_result"
    }
   ],
   "source": [
    "y.ravel().shape"
   ]
  },
  {
   "cell_type": "code",
   "execution_count": 15,
   "metadata": {},
   "outputs": [
    {
     "data": {
      "text/plain": [
       "(5.503799610436049, array([3.00364675]))"
      ]
     },
     "execution_count": 15,
     "metadata": {},
     "output_type": "execute_result"
    }
   ],
   "source": [
    "lin_reg.intercept_, lin_reg.coef_"
   ]
  },
  {
   "cell_type": "code",
   "execution_count": 20,
   "metadata": {},
   "outputs": [
    {
     "data": {
      "text/plain": [
       "<matplotlib.collections.PathCollection at 0x257f8c93828>"
      ]
     },
     "execution_count": 20,
     "metadata": {},
     "output_type": "execute_result"
    },
    {
     "data": {
      "image/png": "[encoded data removed]",
      "text/plain": [
       "<Figure size 432x288 with 1 Axes>"
      ]
     },
     "metadata": {
      "needs_background": "light"
     },
     "output_type": "display_data"
    }
   ],
   "source": [
    "X_new=np.array([[0],[1]])\n",
    "plt.plot(X_new,lin_reg.intercept_+lin_reg.coef_*X_new,'red')\n",
    "plt.scatter(X,y)"
   ]
  },
  {
   "cell_type": "code",
   "execution_count": 21,
   "metadata": {},
   "outputs": [
    {
     "data": {
      "text/plain": [
       "(2, 1)"
      ]
     },
     "execution_count": 21,
     "metadata": {},
     "output_type": "execute_result"
    }
   ],
   "source": [
    "X_new.shape"
   ]
  },
  {
   "cell_type": "code",
   "execution_count": 24,
   "metadata": {},
   "outputs": [],
   "source": [
    "from sklearn.linear_model import SGDRegressor"
   ]
  },
  {
   "cell_type": "code",
   "execution_count": 25,
   "metadata": {},
   "outputs": [
    {
     "name": "stderr",
     "output_type": "stream",
     "text": [
      "C:\\Users\\mkou0\\Anaconda3\\lib\\site-packages\\sklearn\\linear_model\\stochastic_gradient.py:183: FutureWarning: max_iter and tol parameters have been added in SGDRegressor in 0.19. If max_iter is set but tol is left unset, the default value for tol in 0.19 and 0.20 will be None (which is equivalent to -infinity, so it has no effect) but will change in 0.21 to 1e-3. Specify tol to silence this warning.\n",
      "  FutureWarning)\n"
     ]
    }
   ],
   "source": [
    "sgd_reg=SGDRegressor(max_iter=100).fit(X,y.ravel())"
   ]
  },
  {
   "cell_type": "code",
   "execution_count": 27,
   "metadata": {},
   "outputs": [
    {
     "data": {
      "text/plain": [
       "(array([5.53247486]), array([2.94739994]))"
      ]
     },
     "execution_count": 27,
     "metadata": {},
     "output_type": "execute_result"
    }
   ],
   "source": [
    "sgd_reg.intercept_,sgd_reg.coef_"
   ]
  },
  {
   "cell_type": "code",
   "execution_count": 28,
   "metadata": {},
   "outputs": [
    {
     "name": "stderr",
     "output_type": "stream",
     "text": [
      "C:\\Users\\mkou0\\Anaconda3\\lib\\site-packages\\sklearn\\linear_model\\stochastic_gradient.py:183: FutureWarning: max_iter and tol parameters have been added in SGDRegressor in 0.19. If max_iter is set but tol is left unset, the default value for tol in 0.19 and 0.20 will be None (which is equivalent to -infinity, so it has no effect) but will change in 0.21 to 1e-3. Specify tol to silence this warning.\n",
      "  FutureWarning)\n"
     ]
    }
   ],
   "source": [
    "sgd_reg_00001=SGDRegressor(eta0=0.0001,max_iter=100).fit(X,y.ravel())"
   ]
  },
  {
   "cell_type": "code",
   "execution_count": 30,
   "metadata": {},
   "outputs": [
    {
     "data": {
      "text/plain": [
       "<matplotlib.collections.PathCollection at 0x257f9d3d2e8>"
      ]
     },
     "execution_count": 30,
     "metadata": {},
     "output_type": "execute_result"
    },
    {
     "data": {
      "image/png": "[encoded data removed]",
      "text/plain": [
       "<Figure size 432x288 with 1 Axes>"
      ]
     },
     "metadata": {
      "needs_background": "light"
     },
     "output_type": "display_data"
    }
   ],
   "source": [
    "plt.plot(X_new,sgd_reg_00001.intercept_+sgd_reg_00001.coef_*X_new,'red')\n",
    "plt.scatter(X,y)"
   ]
  },
  {
   "cell_type": "code",
   "execution_count": 31,
   "metadata": {},
   "outputs": [
    {
     "name": "stderr",
     "output_type": "stream",
     "text": [
      "C:\\Users\\mkou0\\Anaconda3\\lib\\site-packages\\sklearn\\linear_model\\stochastic_gradient.py:183: FutureWarning: max_iter and tol parameters have been added in SGDRegressor in 0.19. If max_iter is set but tol is left unset, the default value for tol in 0.19 and 0.20 will be None (which is equivalent to -infinity, so it has no effect) but will change in 0.21 to 1e-3. Specify tol to silence this warning.\n",
      "  FutureWarning)\n"
     ]
    }
   ],
   "source": [
    "sgd_reg_100=SGDRegressor(eta0=100,max_iter=100).fit(X,y.ravel())"
   ]
  },
  {
   "cell_type": "code",
   "execution_count": 32,
   "metadata": {},
   "outputs": [
    {
     "data": {
      "text/plain": [
       "(array([6.40212096e+12]), array([8.52012768e+12]))"
      ]
     },
     "execution_count": 32,
     "metadata": {},
     "output_type": "execute_result"
    }
   ],
   "source": [
    "sgd_reg_100.intercept_,sgd_reg_100.coef_"
   ]
  },
  {
   "cell_type": "code",
   "execution_count": 37,
   "metadata": {},
   "outputs": [
    {
     "data": {
      "text/plain": [
       "<matplotlib.collections.PathCollection at 0x257f8cb54e0>"
      ]
     },
     "execution_count": 37,
     "metadata": {},
     "output_type": "execute_result"
    },
    {
     "data": {
      "image/png": "[encoded data removed]",
      "text/plain": [
       "<Figure size 432x288 with 1 Axes>"
      ]
     },
     "metadata": {
      "needs_background": "light"
     },
     "output_type": "display_data"
    }
   ],
   "source": [
    "plt.plot(X_new,sgd_reg_100.intercept_+sgd_reg_100.coef_*X_new,'red')\n",
    "plt.scatter(X,y)"
   ]
  },
  {
   "cell_type": "code",
   "execution_count": null,
   "metadata": {},
   "outputs": [],
   "source": []
  }
 ],
 "metadata": {
  "kernelspec": {
   "display_name": "Python 3",
   "language": "python",
   "name": "python3"
  },
  "language_info": {
   "codemirror_mode": {
    "name": "ipython",
    "version": 3
   },
   "file_extension": ".py",
   "mimetype": "text/x-python",
   "name": "python",
   "nbconvert_exporter": "python",
   "pygments_lexer": "ipython3",
   "version": "3.7.1"
  }
 },
 "nbformat": 4,
 "nbformat_minor": 2
}
